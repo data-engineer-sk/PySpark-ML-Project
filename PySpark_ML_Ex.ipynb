{
 "cells": [
  {
   "cell_type": "markdown",
   "id": "3381b6fa",
   "metadata": {},
   "source": [
    "# Machine Learning (Linear Regression Simulation)"
   ]
  },
  {
   "cell_type": "markdown",
   "id": "c073a066",
   "metadata": {},
   "source": [
    "### Use the linear reagrssion machine learning model to predict the Test Score\n",
    "### by using the two independent variables :  ['RelatedExperience', 'StudyHour']"
   ]
  },
  {
   "cell_type": "code",
   "execution_count": 5,
   "id": "ad1a4f09",
   "metadata": {},
   "outputs": [],
   "source": [
    "# import the required package for preparation\n",
    "from pyspark.sql import SparkSession\n",
    "mySpark=SparkSession.builder.appName('MachineLearning').getOrCreate()"
   ]
  },
  {
   "cell_type": "code",
   "execution_count": 6,
   "id": "63e45df4",
   "metadata": {},
   "outputs": [],
   "source": [
    "df_exercise = mySpark.read.csv('testScore.csv', header=True, inferSchema=True)"
   ]
  },
  {
   "cell_type": "code",
   "execution_count": 7,
   "id": "477ccc85",
   "metadata": {},
   "outputs": [
    {
     "name": "stdout",
     "output_type": "stream",
     "text": [
      "+----------------+----------------+-----------------+---------+---------+\n",
      "|            Name|         Subject|RelatedExperience|StudyHour|TestScore|\n",
      "+----------------+----------------+-----------------+---------+---------+\n",
      "|     Edward Wong|Machine Learning|              5.7|       10|       90|\n",
      "|         Tony Fu|Machine Learning|              3.3|        8|       77|\n",
      "|        Megan Ho|Machine Learning|              3.0|        4|       23|\n",
      "|     Pauline Yau|Machine Learning|              0.0|        3|       12|\n",
      "|     Candy Leung|Machine Learning|              4.1|        7|       65|\n",
      "|  Summer Jeffson|Machine Learning|              0.0|        5|       48|\n",
      "|Combell Kawaskey|Machine Learning|              0.0|        4|       26|\n",
      "|     Nashu Kwong|Machine Learning|              3.5|        8|       68|\n",
      "|     Suki Takayi|Machine Learning|              1.3|        6|       51|\n",
      "|       Sudhanshu|Machine Learning|              5.6|       12|       88|\n",
      "|     Wellon Mesk|Machine Learning|              4.2|        9|       80|\n",
      "|       Polly Mak|Machine Learning|              1.1|        4|       27|\n",
      "+----------------+----------------+-----------------+---------+---------+\n",
      "\n"
     ]
    }
   ],
   "source": [
    "# Show the data and their relateionship (in tabular format)\n",
    "df_exercise.show()"
   ]
  },
  {
   "cell_type": "code",
   "execution_count": 8,
   "id": "864779fe",
   "metadata": {},
   "outputs": [
    {
     "name": "stdout",
     "output_type": "stream",
     "text": [
      "root\n",
      " |-- Name: string (nullable = true)\n",
      " |-- Subject: string (nullable = true)\n",
      " |-- RelatedExperience: double (nullable = true)\n",
      " |-- StudyHour: integer (nullable = true)\n",
      " |-- TestScore: integer (nullable = true)\n",
      "\n"
     ]
    }
   ],
   "source": [
    "# Examine the dataset\n",
    "# Determine the depandent variable 'TestScore' and \n",
    "# the independent variable 'StudyHour'\n",
    "df_exercise.printSchema()"
   ]
  },
  {
   "cell_type": "code",
   "execution_count": 9,
   "id": "dd19ef06",
   "metadata": {},
   "outputs": [
    {
     "data": {
      "text/plain": [
       "['Name', 'Subject', 'RelatedExperience', 'StudyHour', 'TestScore']"
      ]
     },
     "execution_count": 9,
     "metadata": {},
     "output_type": "execute_result"
    }
   ],
   "source": [
    "# Print the headers from the columns\n",
    "df_exercise.columns"
   ]
  },
  {
   "cell_type": "code",
   "execution_count": 10,
   "id": "5c029f84",
   "metadata": {},
   "outputs": [
    {
     "data": {
      "text/plain": [
       "['RelatedExperience', 'StudyHour']"
      ]
     },
     "execution_count": 10,
     "metadata": {},
     "output_type": "execute_result"
    }
   ],
   "source": [
    "# Create a Vector Assembler to establish a\n",
    "# new group feature ['RelatedExperience', 'StudyHour'] \n",
    "# for training.  This group feature is a new \n",
    "# independent feature to be created and for future\n",
    "# training.\n",
    "\n",
    "['RelatedExperience', 'StudyHour']"
   ]
  },
  {
   "cell_type": "code",
   "execution_count": 11,
   "id": "735b23ca",
   "metadata": {},
   "outputs": [],
   "source": [
    "# VectorAssembler is a module that allows to convert numerical features into a single vector that is used by the machine learning models"
    "from pyspark.ml.feature import VectorAssembler\n",
    "featureassembler=VectorAssembler(inputCols=['RelatedExperience','StudyHour'], outputCol='Independent Variable')"
   ]
  },
  {
   "cell_type": "code",
   "execution_count": 12,
   "id": "e5581d99",
   "metadata": {
    "scrolled": true
   },
   "outputs": [],
   "source": [
    "result = featureassembler.transform(df_exercise)"
   ]
  },
  {
   "cell_type": "code",
   "execution_count": 13,
   "id": "704d7dcf",
   "metadata": {},
   "outputs": [
    {
     "name": "stdout",
     "output_type": "stream",
     "text": [
      "+----------------+----------------+-----------------+---------+---------+--------------------+\n",
      "|            Name|         Subject|RelatedExperience|StudyHour|TestScore|Independent Variable|\n",
      "+----------------+----------------+-----------------+---------+---------+--------------------+\n",
      "|     Edward Wong|Machine Learning|              5.7|       10|       90|          [5.7,10.0]|\n",
      "|         Tony Fu|Machine Learning|              3.3|        8|       77|           [3.3,8.0]|\n",
      "|        Megan Ho|Machine Learning|              3.0|        4|       23|           [3.0,4.0]|\n",
      "|     Pauline Yau|Machine Learning|              0.0|        3|       12|           [0.0,3.0]|\n",
      "|     Candy Leung|Machine Learning|              4.1|        7|       65|           [4.1,7.0]|\n",
      "|  Summer Jeffson|Machine Learning|              0.0|        5|       48|           [0.0,5.0]|\n",
      "|Combell Kawaskey|Machine Learning|              0.0|        4|       26|           [0.0,4.0]|\n",
      "|     Nashu Kwong|Machine Learning|              3.5|        8|       68|           [3.5,8.0]|\n",
      "|     Suki Takayi|Machine Learning|              1.3|        6|       51|           [1.3,6.0]|\n",
      "|       Sudhanshu|Machine Learning|              5.6|       12|       88|          [5.6,12.0]|\n",
      "|     Wellon Mesk|Machine Learning|              4.2|        9|       80|           [4.2,9.0]|\n",
      "|       Polly Mak|Machine Learning|              1.1|        4|       27|           [1.1,4.0]|\n",
      "+----------------+----------------+-----------------+---------+---------+--------------------+\n",
      "\n"
     ]
    }
   ],
   "source": [
    "result.show()"
   ]
  },
  {
   "cell_type": "code",
   "execution_count": 14,
   "id": "01b18b46",
   "metadata": {},
   "outputs": [
    {
     "data": {
      "text/plain": [
       "['Name',\n",
       " 'Subject',\n",
       " 'RelatedExperience',\n",
       " 'StudyHour',\n",
       " 'TestScore',\n",
       " 'Independent Variable']"
      ]
     },
     "execution_count": 14,
     "metadata": {},
     "output_type": "execute_result"
    }
   ],
   "source": [
    "# Check the column name \n",
    "result.columns"
   ]
  },
  {
   "cell_type": "code",
   "execution_count": 15,
   "id": "ca7b730e",
   "metadata": {},
   "outputs": [],
   "source": [
    "# Use 'Independent Variable' and 'TestScore' as \n",
    "# Training data\n",
    "predict_test_score = result.select('Independent Variable','TestScore')"
   ]
  },
  {
   "cell_type": "code",
   "execution_count": 16,
   "id": "0f91d94d",
   "metadata": {},
   "outputs": [
    {
     "name": "stdout",
     "output_type": "stream",
     "text": [
      "+--------------------+---------+\n",
      "|Independent Variable|TestScore|\n",
      "+--------------------+---------+\n",
      "|          [5.7,10.0]|       90|\n",
      "|           [3.3,8.0]|       77|\n",
      "|           [3.0,4.0]|       23|\n",
      "|           [0.0,3.0]|       12|\n",
      "|           [4.1,7.0]|       65|\n",
      "|           [0.0,5.0]|       48|\n",
      "|           [0.0,4.0]|       26|\n",
      "|           [3.5,8.0]|       68|\n",
      "|           [1.3,6.0]|       51|\n",
      "|          [5.6,12.0]|       88|\n",
      "|           [4.2,9.0]|       80|\n",
      "|           [1.1,4.0]|       27|\n",
      "+--------------------+---------+\n",
      "\n"
     ]
    }
   ],
   "source": [
    "predict_test_score.show()"
   ]
  },
  {
   "cell_type": "code",
   "execution_count": 17,
   "id": "68972899",
   "metadata": {},
   "outputs": [
    {
     "name": "stdout",
     "output_type": "stream",
     "text": [
      "23/01/30 23:30:17 WARN Instrumentation: [35ab18d0] regParam is zero, which might cause numerical instability and overfitting.\n",
      "23/01/30 23:30:17 WARN InstanceBuilder$JavaBLAS: Failed to load implementation from:dev.ludovic.netlib.blas.VectorBLAS\n",
      "23/01/30 23:30:17 WARN InstanceBuilder$NativeBLAS: Failed to load implementation from:dev.ludovic.netlib.blas.JNIBLAS\n",
      "23/01/30 23:30:17 WARN InstanceBuilder$NativeBLAS: Failed to load implementation from:dev.ludovic.netlib.blas.ForeignLinkerBLAS\n",
      "23/01/30 23:30:17 WARN InstanceBuilder$NativeLAPACK: Failed to load implementation from:dev.ludovic.netlib.lapack.JNILAPACK\n"
     ]
    }
   ],
   "source": [
    "from pyspark.ml.regression import LinearRegression\n",
    "training_data, test_data = predict_test_score.randomSplit([0.75,0.25])\n",
    "regression_simulate = LinearRegression(featuresCol='Independent Variable', labelCol='TestScore')\n",
    "regression_simulate = regression_simulate.fit(training_data)"
   ]
  },
  {
   "cell_type": "code",
   "execution_count": 18,
   "id": "40bf6886",
   "metadata": {},
   "outputs": [
    {
     "data": {
      "text/plain": [
       "DenseVector([-0.0341, 8.8848])"
      ]
     },
     "execution_count": 18,
     "metadata": {},
     "output_type": "execute_result"
    }
   ],
   "source": [
    "# Get the Regression Coefficients\n",
    "regression_simulate.coefficients"
   ]
  },
  {
   "cell_type": "code",
   "execution_count": 19,
   "id": "e72d5dae",
   "metadata": {},
   "outputs": [
    {
     "data": {
      "text/plain": [
       "-4.996779459586443"
      ]
     },
     "execution_count": 19,
     "metadata": {},
     "output_type": "execute_result"
    }
   ],
   "source": [
    "regression_simulate.intercept"
   ]
  },
  {
   "cell_type": "code",
   "execution_count": 20,
   "id": "3bc9b42b",
   "metadata": {},
   "outputs": [],
   "source": [
    "# Now can do the predictation by using \n",
    "# the test data\n",
    "predict_result = regression_simulate.evaluate(test_data)"
   ]
  },
  {
   "cell_type": "code",
   "execution_count": 21,
   "id": "f2631880",
   "metadata": {},
   "outputs": [
    {
     "name": "stdout",
     "output_type": "stream",
     "text": [
      "+--------------------+---------+------------------+\n",
      "|Independent Variable|TestScore|        prediction|\n",
      "+--------------------+---------+------------------+\n",
      "|           [0.0,3.0]|       12|21.657768606913915|\n",
      "|           [0.0,5.0]|       48| 39.42746731791416|\n",
      "|          [5.7,10.0]|       90| 83.65742382886467|\n",
      "+--------------------+---------+------------------+\n",
      "\n"
     ]
    }
   ],
   "source": [
    "predict_result.predictions.show()"
   ]
  },
  {
   "cell_type": "code",
   "execution_count": 22,
   "id": "efde1eca",
   "metadata": {},
   "outputs": [
    {
     "data": {
      "text/plain": [
       "(8.190959153378364, 68.99636117892521)"
      ]
     },
     "execution_count": 22,
     "metadata": {},
     "output_type": "execute_result"
    }
   ],
   "source": [
    "# Check the mean absolute error\n",
    "predict_result.meanAbsoluteError, predict_result.meanSquaredError"
   ]
  },
  {
   "cell_type": "code",
   "execution_count": null,
   "id": "41a092c6",
   "metadata": {},
   "outputs": [],
   "source": []
  }
 ],
 "metadata": {
  "kernelspec": {
   "display_name": "Python 3 (ipykernel)",
   "language": "python",
   "name": "python3"
  },
  "language_info": {
   "codemirror_mode": {
    "name": "ipython",
    "version": 3
   },
   "file_extension": ".py",
   "mimetype": "text/x-python",
   "name": "python",
   "nbconvert_exporter": "python",
   "pygments_lexer": "ipython3",
   "version": "3.10.8"
  }
 },
 "nbformat": 4,
 "nbformat_minor": 5
}
